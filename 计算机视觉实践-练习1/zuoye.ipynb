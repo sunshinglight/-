{
 "cells": [
  {
   "cell_type": "code",
   "execution_count": 1,
   "metadata": {
    "collapsed": true
   },
   "outputs": [],
   "source": [
    "import cv2\n",
    "import numpy as np\n",
    "import sys\n",
    "from PIL import Image"
   ]
  },
  {
   "cell_type": "code",
   "execution_count": null,
   "outputs": [],
   "source": [
    "#图像显示函数\n",
    "def show(name,img):\n",
    "    cv2.imshow(name, img)\n",
    "    cv2.waitKey(0)\n",
    "    cv2.destroyAllWindows()\n",
    "#读取输入图片\n",
    "ima = cv2.imread(\"you.jpg\")\n",
    "imb = cv2.imread(\"zuo.jpg\")\n",
    "A = ima.copy()\n",
    "B = imb.copy()\n",
    "imageA = cv2.resize(A,(0,0),fx=0.2,fy=0.2)\n",
    "imageB = cv2.resize(B,(0,0),fx=0.2,fy=0.2)\n",
    "#检测A、B图片的SIFT关键特征点，并计算特征描述子\n",
    "def detectAndDescribe(image):\n",
    "    # 建立SIFT生成器\n",
    "    sift = cv2.SIFT_create()\n",
    "    # 检测SIFT特征点，并计算描述子\n",
    "    (kps, features) = sift.detectAndCompute(image, None)\n",
    "    # 将结果转换成NumPy数组\n",
    "    kps = np.float32([kp.pt for kp in kps])\n",
    "    # 返回特征点集，及对应的描述特征\n",
    "    return (kps, features)\n",
    "\n",
    "#检测A、B图片的SIFT关键特征点，并计算特征描述子\n",
    "kpsA, featuresA = detectAndDescribe(imageA)\n",
    "kpsB, featuresB = detectAndDescribe(imageB)\n",
    "# 建立暴力匹配器\n",
    "bf = cv2.BFMatcher()\n",
    "# 使用KNN检测来自A、B图的SIFT特征匹配对，K=2\n",
    "matches = bf.knnMatch(featuresA, featuresB, 2)\n",
    "good = []\n",
    "for m in matches:\n",
    "    # 当最近距离跟次近距离的比值小于ratio值时，保留此匹配对\n",
    "    if len(m) == 2 and m[0].distance < m[1].distance * 0.75:\n",
    "        # 存储两个点在featuresA, featuresB中的索引值\n",
    "        good.append((m[0].trainIdx, m[0].queryIdx))\n",
    "\n",
    "# 当筛选后的匹配对大于4时，计算视角变换矩阵\n",
    "if len(good) > 4:\n",
    "    # 获取匹配对的点坐标\n",
    "    ptsA = np.float32([kpsA[i] for (_, i) in good])\n",
    "    ptsB = np.float32([kpsB[i] for (i, _) in good])\n",
    "    # 计算视角变换矩阵\n",
    "    H, status = cv2.findHomography(ptsA, ptsB, cv2.RANSAC,4.0)\n",
    "\n",
    "# 匹配两张图片的所有特征点，返回匹配结果\n",
    "M = (matches, H, status)\n",
    "# 如果返回结果为空，没有匹配成功的特征点，退出程序\n",
    "if M is None:\n",
    "    print(\"无匹配结果\")\n",
    "    sys.exit()\n",
    "# 否则，提取匹配结果\n",
    "# H是3x3视角变换矩阵\n",
    "(matches, H, status) = M\n",
    "# 将图片A进行视角变换，result是变换后图片\n",
    "result = cv2.warpPerspective(imageA, H, (imageA.shape[1] + imageB.shape[1], imageA.shape[0]))\n",
    "# 将图片B传入result图片最左端\n",
    "result[0:imageB.shape[0], 0:imageB.shape[1]] = imageB\n",
    "show('res',result)\n",
    "print(result.shape)"
   ],
   "metadata": {
    "collapsed": false
   }
  },
  {
   "cell_type": "code",
   "execution_count": null,
   "outputs": [],
   "source": [],
   "metadata": {
    "collapsed": false
   }
  }
 ],
 "metadata": {
  "kernelspec": {
   "display_name": "Python 3",
   "language": "python",
   "name": "python3"
  },
  "language_info": {
   "codemirror_mode": {
    "name": "ipython",
    "version": 2
   },
   "file_extension": ".py",
   "mimetype": "text/x-python",
   "name": "python",
   "nbconvert_exporter": "python",
   "pygments_lexer": "ipython2",
   "version": "2.7.6"
  }
 },
 "nbformat": 4,
 "nbformat_minor": 0
}
